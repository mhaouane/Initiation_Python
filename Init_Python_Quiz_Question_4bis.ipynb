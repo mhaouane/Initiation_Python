{
  "nbformat": 4,
  "nbformat_minor": 0,
  "metadata": {
    "colab": {
      "name": "Init_Python_Quiz_Question_4bis.ipynb",
      "provenance": [],
      "collapsed_sections": [],
      "authorship_tag": "ABX9TyPHcVKFsGJl1QUt0o8oOFFK",
      "include_colab_link": true
    },
    "kernelspec": {
      "name": "python3",
      "display_name": "Python 3"
    },
    "language_info": {
      "name": "python"
    }
  },
  "cells": [
    {
      "cell_type": "markdown",
      "metadata": {
        "id": "view-in-github",
        "colab_type": "text"
      },
      "source": [
        "<a href=\"https://colab.research.google.com/github/mhaouane/Initiation_Python/blob/main/Init_Python_Quiz_Question_4bis.ipynb\" target=\"_parent\"><img src=\"https://colab.research.google.com/assets/colab-badge.svg\" alt=\"Open In Colab\"/></a>"
      ]
    },
    {
      "cell_type": "code",
      "execution_count": 22,
      "metadata": {
        "colab": {
          "base_uri": "https://localhost:8080/"
        },
        "id": "W8W-r79ALLW0",
        "outputId": "b3b39a91-7976-4972-d9cb-eb869a59bd33"
      },
      "outputs": [
        {
          "output_type": "stream",
          "name": "stdout",
          "text": [
            "Jeu A- Capital final:  18 € ----  Nombre de lancer :  1000\n",
            "0.845853832793509\n"
          ]
        }
      ],
      "source": [
        "#Question 4 A sans la boucle itérative\n",
        "#Modifier le jeu A en introduisant une boucle#Jeu A qui est un simple jeu de pile ou face avec une pièce biaisée (pile avec une probabilité de p=0.49). Le joueur mise un euro et lance la pièce : s’il obtient pile il gagne \n",
        "#un euro en plus de récupérer sa mise, sinon il perd sa mise.\n",
        "#Le capital doit diminuer à chq jeu. Oui avec la boucle ir=térative. Non avec la boucle itérative à l'extérieur de la focntion\n",
        "import random\n",
        "\n",
        "P_A=0.49\n",
        "F_A=0.51\n",
        "A=1 #Mise de 1 €\n",
        "#C=1000 #Capital\n",
        "#Fonction Jeu A pile ou face. Arguments (Mise, Capital) Ex : Mise = 1€ capital = 1000€\n",
        "#Attention return termine la boucle comme break\n",
        "#Il faut sortir la boucle itérative de la foonction et l'appeler lors de l'appel de la fonction\n",
        "A=1 #Mise de 1 €\n",
        "C=1000 #Capital\n",
        "def jeu_A(A, C, F):\n",
        "  #F fréquence ou Nb lancers\n",
        "  for i in range(F):\n",
        "   if int(random.random()*100) == int((P_A*100)):\n",
        "     # A = A+1 - Ne pas incrmenter la mise mai plutôt le capital\n",
        "     C = C+A+1\n",
        "     #return A,C Attention return arrête la boucle\n",
        "     #print(A,C)\n",
        "   else:   \n",
        "    C = C-A\n",
        "    #return A, C\n",
        "  print(\"Jeu A- Capital final: \",C, \"€ ----  Nombre de lancer : \", F)\n",
        "  #print(i)     \n",
        "\n",
        "jeu_A(1, 1000, 1000)\n",
        "print(random.random())\n",
        "#print(P_A)\n",
        "#print(A)\n",
        "#print(C)\n",
        "\n",
        "#Conclusion le jeu A est perdant au bout de 1000 itérat"
      ]
    },
    {
      "cell_type": "code",
      "source": [
        ""
      ],
      "metadata": {
        "id": "nxY8NUZ7SixK"
      },
      "execution_count": null,
      "outputs": []
    }
  ]
}