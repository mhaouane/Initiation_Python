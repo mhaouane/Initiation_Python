{
  "nbformat": 4,
  "nbformat_minor": 0,
  "metadata": {
    "colab": {
      "name": "Init_Python_Quiz_Question_4bis.ipynb",
      "provenance": [],
      "collapsed_sections": [],
      "authorship_tag": "ABX9TyPqHB1w/yr2b5P+qm9fqciq",
      "include_colab_link": true
    },
    "kernelspec": {
      "name": "python3",
      "display_name": "Python 3"
    },
    "language_info": {
      "name": "python"
    }
  },
  "cells": [
    {
      "cell_type": "markdown",
      "metadata": {
        "id": "view-in-github",
        "colab_type": "text"
      },
      "source": [
        "<a href=\"https://colab.research.google.com/github/mhaouane/Initiation_Python/blob/main/Init_Python_Quiz_Question_4bis.ipynb\" target=\"_parent\"><img src=\"https://colab.research.google.com/assets/colab-badge.svg\" alt=\"Open In Colab\"/></a>"
      ]
    },
    {
      "cell_type": "code",
      "execution_count": null,
      "metadata": {
        "id": "W8W-r79ALLW0"
      },
      "outputs": [],
      "source": [
        "#Question 4 A sans la boucle itérative\n",
        "#Modifier le jeu A en introduisant une boucle#Jeu A qui est un simple jeu de pile ou face avec une pièce biaisée (pile avec une probabilité de p=0.49). Le joueur mise un euro et lance la pièce : s’il obtient pile il gagne \n",
        "#un euro en plus de récupérer sa mise, sinon il perd sa mise.\n",
        "#Le capital doit diminuer à chq jeu. Oui avec la boucle ir=térative. Non avec la boucle itérative à l'extérieur de la focntion\n",
        "import random\n",
        "\n",
        "P_A=0.49\n",
        "F_A=0.51\n",
        "A=1 #Mise de 1 €\n",
        "#C=1000 #Capital\n",
        "#Fonction Jeu A pile ou face. Arguments (Mise, Capital) Ex : Mise = 1€ capital = 1000€\n",
        "#Attention return termine la boucle comme break\n",
        "#Il faut sortir la boucle itérative de la foonction et l'appeler lors de l'appel de la fonction\n",
        "A=1 #Mise de 1 €\n",
        "C=1000 #Capital\n",
        "def jeu_A(A, C, F):\n",
        "  #F fréquence ou Nb lancers\n",
        "  for i in range(F):\n",
        "   if int(random.random()*100) == int((P_A*100)):\n",
        "     # A = A+1 - Ne pas incrmenter la mise mai plutôt le capital\n",
        "     C = C+A+1\n",
        "     #return A,C Attention return arrête la boucle\n",
        "     #print(A,C)\n",
        "   else:   \n",
        "    C = C-A\n",
        "    #return A, C\n",
        "  print(\"Jeu A- Capital final: \",C, \"€ ----  Nombre de lancer : \", F)\n",
        "  #print(i)     \n",
        "\n",
        "jeu_A(1, 1000, 1000)\n",
        "print(random.random())\n",
        "#print(P_A)\n",
        "#print(A)\n",
        "#print(C)\n",
        "\n",
        "#Conclusion le jeu A est perdant au bout de 1000 itérat\n",
        "\n",
        "#Question 4 B\n",
        "#Pile avec une probabilité de p=0.49). Le joueur mise un euro et lance la pièce : s’il obtient pile il gagne un euro en plus de récupérer sa mise, sinon il perd sa mise.\n",
        "import random\n",
        "P_A=0.49\n",
        "F_A=0.51\n",
        "\n",
        "#B, qui est un jeu avec deux pièces biaisées. La première pièce donne pile avec une probabilité p1 = 0.09 et la seconde pièce donne pile avec une probabilité p2 = 0.74. \n",
        "#Le joueur de ne peut miser qu’un euro à la fois ! En revanche, on regarde à chaque lancé son capital (la somme d’argent total) dont il dispose pour déterminer quelle pièce lancer : \n",
        "#si le capital est un multiple de 3, on lance la pièce numéro une, sinon on lance la seconde pièce. Comme dans le jeu A, le joueur remporte sa mise plus un euro supplémentaire si la pièce choisie tombe sur pile, \n",
        "#sinon il perd sa mise.\n",
        "P_B1=0.09\n",
        "P_F1=0.91\n",
        "P_B2=0.74\n",
        "F_B2=0.24\n",
        "# C Capital\n",
        "\n",
        "#Le joueur mise 1€ - M\n",
        "\n",
        "#Fonction jeu B avec arguments (P1:pièce 1, P2; pièce 2, Mise, capital)\n",
        "#Fonction simplifiée finalement (Mise, capital) car les proba sont calculées avec des paramètres\n",
        "def Jeu_B(M, C, F):\n",
        " # M=1 #Mise de 1 €\n",
        " # C=1000 #Capital\n",
        " # F = Nombre de jeux ou de lancers\n",
        "  for i in range(F):   \n",
        "      #Mettre à jour le capital avant de continuer le jeu. On lance la 1ere pièce\n",
        "   if C % 3 == 0:\n",
        "    #print(\"capital est multiple de 3 lancer pièce 1\")\n",
        "        if int(random.random()*100)  == int(P_B1*100):\n",
        "          C = C+M+1 # Jeu gagant capital + la mise + 1€\n",
        "          print(M,C)\n",
        "   # (\"capital n'est pas multiple de 3 lancer pièce 2\")    \n",
        "   else:  #on lance la 2e pièce\n",
        "      if int(random.random()*100)  == int(P_B2*100):\n",
        "         C = C+M+1 # Jeu gagant capital + la mise\n",
        "         print(M,C)\n",
        "      else:\n",
        "         C = C-M  # Jeu perdant capital - la mise\n",
        "         print(M,C) \n",
        "  print(\"Jeu B- Capital final: \",C, \"€ ----  Nombre de lancer : \", F)      \n",
        "\n",
        "Jeu_B(1,1000, 1000)\n",
        "#Pour exécuter la fonction, il faut la sortir de la structure de la fonction  \n",
        "#Conclusion : Le capital du joueur n'a pas augmenté. Donc il perd"
      ]
    },
    {
      "cell_type": "code",
      "source": [
        "#Question 5\n",
        "#On va à présent mixer les deux jeux présentés dans la question 4 précédente ! En effet, à chaque tour, on lance une pièce (cette fois-ci...) équilibrée ! Si l'on a pile, on joue au jeu A, sinon on joue au jeu B.\n",
        "#On suppose que le joueur a 1000 euros comme capital de départ.\n",
        "#Après avoir joué 1.000.000 de parties, quel est le statut du jeu, du point de vue du joueur ?\n",
        "#Pb vu que j'ai mis la boucle itérative dans les focntions Jeu_A et Jeu_B, \n",
        "\n",
        "def jeu_mix():\n",
        "  if print(random.choice([\"Pile\", \"Face\"])) == \"Pile\":\n",
        "    jeu_A(1,1000, 1000000)\n",
        "  else:\n",
        "    Jeu_B(1,1000, 1000000)\n",
        " \n",
        "# Il ne traite que la partie pile   \n",
        "#print(jeu_mix())\n",
        "#Boucle de boucle. Infinie\n",
        "#for i in range (1, 10000):\n",
        "#  print(jeu_mix())"
      ],
      "metadata": {
        "id": "nxY8NUZ7SixK"
      },
      "execution_count": null,
      "outputs": []
    },
    {
      "cell_type": "code",
      "source": [
        "\n",
        "random.choice([\"Pile\", \"Face\"])"
      ],
      "metadata": {
        "colab": {
          "base_uri": "https://localhost:8080/",
          "height": 35
        },
        "id": "7p4S4_JXUTgU",
        "outputId": "394ab404-f261-4a3a-af10-fb8df06a1280"
      },
      "execution_count": null,
      "outputs": [
        {
          "output_type": "execute_result",
          "data": {
            "text/plain": [
              "'Face'"
            ],
            "application/vnd.google.colaboratory.intrinsic+json": {
              "type": "string"
            }
          },
          "metadata": {},
          "execution_count": 27
        }
      ]
    },
    {
      "cell_type": "code",
      "source": [
        ""
      ],
      "metadata": {
        "id": "HGVlW5S5UUJc"
      },
      "execution_count": null,
      "outputs": []
    }
  ]
}