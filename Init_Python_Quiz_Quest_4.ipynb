{
  "nbformat": 4,
  "nbformat_minor": 0,
  "metadata": {
    "colab": {
      "name": "Init_Python_Quiz_Quest_4.ipynb",
      "provenance": [],
      "authorship_tag": "ABX9TyPsHztaj2+QSu2dOhxyMzt4",
      "include_colab_link": true
    },
    "kernelspec": {
      "name": "python3",
      "display_name": "Python 3"
    },
    "language_info": {
      "name": "python"
    }
  },
  "cells": [
    {
      "cell_type": "markdown",
      "metadata": {
        "id": "view-in-github",
        "colab_type": "text"
      },
      "source": [
        "<a href=\"https://colab.research.google.com/github/mhaouane/Initition_Python/blob/main/Init_Python_Quiz_Quest_4.ipynb\" target=\"_parent\"><img src=\"https://colab.research.google.com/assets/colab-badge.svg\" alt=\"Open In Colab\"/></a>"
      ]
    },
    {
      "cell_type": "code",
      "execution_count": 1,
      "metadata": {
        "id": "Tw7Zbw25ItPV"
      },
      "outputs": [],
      "source": [
        "import random\n",
        "Nb_lancers = 10000\n",
        "Sous_Echantillion = 1000\n",
        "Nb_experience = 5\n",
        "\n",
        "#Freq_moy_6 = m\n",
        "m = random.random()\n",
        "\n",
        "#Freq_moy_4 = n dans le sous échantillon\n",
        "n = random.random()"
      ]
    },
    {
      "cell_type": "code",
      "source": [
        "print(m,n)\n",
        "print(m)"
      ],
      "metadata": {
        "colab": {
          "base_uri": "https://localhost:8080/"
        },
        "id": "Pl-FAS_NI7IY",
        "outputId": "33af7658-afcd-41fe-bebd-cb50ebf31025"
      },
      "execution_count": 3,
      "outputs": [
        {
          "output_type": "stream",
          "name": "stdout",
          "text": [
            "0.37011122290132237 0.9129776881315301\n",
            "0.37011122290132237\n"
          ]
        }
      ]
    },
    {
      "cell_type": "code",
      "source": [
        ""
      ],
      "metadata": {
        "id": "baiWHAViVEHv"
      },
      "execution_count": null,
      "outputs": []
    },
    {
      "cell_type": "code",
      "source": [
        ""
      ],
      "metadata": {
        "id": "xN_64PXeI9n3"
      },
      "execution_count": null,
      "outputs": []
    }
  ]
}