{
  "nbformat": 4,
  "nbformat_minor": 0,
  "metadata": {
    "colab": {
      "name": "Init_Python_Quiz_Quest_4.ipynb",
      "provenance": [],
      "authorship_tag": "ABX9TyOjcCoAjtl8QEI/ZtbtFIBb",
      "include_colab_link": true
    },
    "kernelspec": {
      "name": "python3",
      "display_name": "Python 3"
    },
    "language_info": {
      "name": "python"
    }
  },
  "cells": [
    {
      "cell_type": "markdown",
      "metadata": {
        "id": "view-in-github",
        "colab_type": "text"
      },
      "source": [
        "<a href=\"https://colab.research.google.com/github/mhaouane/Initiation_Python/blob/main/Init_Python_Quiz_Quest_4.ipynb\" target=\"_parent\"><img src=\"https://colab.research.google.com/assets/colab-badge.svg\" alt=\"Open In Colab\"/></a>"
      ]
    },
    {
      "cell_type": "code",
      "execution_count": null,
      "metadata": {
        "id": "Tw7Zbw25ItPV"
      },
      "outputs": [],
      "source": [
        "import random\n",
        "Nb_lancers = 10000\n",
        "Sous_Echantillion = 1000\n",
        "Nb_experience = 5\n",
        "\n",
        "#Freq_moy_6 = m\n",
        "m = random.random()\n",
        "\n",
        "#Freq_moy_4 = n dans le sous échantillon\n",
        "n = random.random()"
      ]
    },
    {
      "cell_type": "code",
      "source": [
        "print(m,n)\n",
        "print(m)"
      ],
      "metadata": {
        "colab": {
          "base_uri": "https://localhost:8080/"
        },
        "id": "Pl-FAS_NI7IY",
        "outputId": "33af7658-afcd-41fe-bebd-cb50ebf31025"
      },
      "execution_count": null,
      "outputs": [
        {
          "output_type": "stream",
          "name": "stdout",
          "text": [
            "0.37011122290132237 0.9129776881315301\n",
            "0.37011122290132237\n"
          ]
        }
      ]
    },
    {
      "cell_type": "code",
      "source": [
        "#ile avec une probabilité de p=0.49). Le joueur mise un euro et lance la pièce : s’il obtient pile il gagne un euro en plus de récupérer sa mise, sinon il perd sa mise.\n",
        "P_A=0.49\n",
        "F_A=0.51\n",
        "\n",
        "#B, qui est un jeu avec deux pièces biaisées. La première pièce donne pile avec une probabilité p1 = 0.09 et la seconde pièce donne pile avec une probabilité p2 = 0.74. \n",
        "#Le joueur de ne peut miser qu’un euro à la fois ! En revanche, on regarde à chaque lancé son capital (la somme d’argent total) dont il dispose pour déterminer quelle pièce lancer : \n",
        "#si le capital est un multiple de 3, on lance la pièce numéro une, sinon on lance la seconde pièce. Comme dans le jeu A, le joueur remporte sa mise plus un euro supplémentaire si la pièce choisie tombe sur pile, \n",
        "#sinon il perd sa mise.\n",
        "P_B1=0.09\n",
        "P_F1=0.91\n",
        "P_B2=0.74\n",
        "F_B2=0.24\n"
      ],
      "metadata": {
        "id": "baiWHAViVEHv"
      },
      "execution_count": null,
      "outputs": []
    },
    {
      "cell_type": "code",
      "source": [
        ""
      ],
      "metadata": {
        "id": "xN_64PXeI9n3"
      },
      "execution_count": null,
      "outputs": []
    }
  ]
}