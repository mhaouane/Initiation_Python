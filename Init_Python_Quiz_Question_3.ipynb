{
  "nbformat": 4,
  "nbformat_minor": 0,
  "metadata": {
    "colab": {
      "name": "Init_Python_Quiz_Question_3.ipynb",
      "provenance": [],
      "collapsed_sections": [],
      "authorship_tag": "ABX9TyMxBYJ8QMFUVuzmNcjYtDTv",
      "include_colab_link": true
    },
    "kernelspec": {
      "name": "python3",
      "display_name": "Python 3"
    },
    "language_info": {
      "name": "python"
    }
  },
  "cells": [
    {
      "cell_type": "markdown",
      "metadata": {
        "id": "view-in-github",
        "colab_type": "text"
      },
      "source": [
        "<a href=\"https://colab.research.google.com/github/mhaouane/Initiation_Python/blob/main/Init_Python_Quiz_Question_3.ipynb\" target=\"_parent\"><img src=\"https://colab.research.google.com/assets/colab-badge.svg\" alt=\"Open In Colab\"/></a>"
      ]
    },
    {
      "cell_type": "code",
      "execution_count": null,
      "metadata": {
        "id": "kyOVKLt19tZ5"
      },
      "outputs": [],
      "source": [
        "#Question 3\n",
        "#Considérons l'expérience suivante :\n",
        "#Soit 10.000 lancers d'un dé équilibré classique (à 6 faces). Parmi ces 10.000 lancers, on en prend 1.000 aléatoirement.\n",
        "#On réalise 5 fois cette expérience, et on note m la moyenne des fréquences de 6 obtenus sur les 10.000 lancers et n la moyenne des fréquences de 4 obtenus dans le sous-échantillon.\n",
        "#Quelles seraient les valeurs de m et n à l'issue de cette expérience ?\n",
        "import random\n",
        "Nb_lancers = 10000\n",
        "Sous_Echantillion = 1000\n",
        "Nb_experience = 5\n",
        "# m : la moyenne des fréquences de 6 obtenus sur les 10.000 lancers - ListeDe  \n",
        "# n : la moyenne des fréquences de 4 obtenus dans le sous-échantillon - SousEchantDe\n",
        "\n",
        "m=0\n",
        "n=0\n",
        "for i in range(5):\n",
        "  listeDe = [] # on intialise la liste\n",
        "  j = 0\n",
        "    #On remplit la liste avec la focntion randint entre 1 et 6 - 1 face à la fois sur 10 000 lancers\n",
        "    #Attention dans la même boucle il faut calculer la liste et le sous échantillon sinon erreur de sample / Echantillon-réduction large ou négatif\n",
        "  while j < 10000:\n",
        "      listeDe.append(random.randint(1,6)) # On ajoute à la liste chq valeur d'un entier entre 1 et 6\n",
        "      j+=1\n",
        "\n",
        "    #Parmi ces 10000 lancers, on prend le sous échantillon de 1000 et on remplit la liste du Sous échan\n",
        "    # on utilise la fonction de sous échantillonage de la liste initiale et on récupère aléatoirement 1 face du dé avec une réduction de 1000\n",
        "  SousEchantDe = random.sample(listeDe, 1000) \n",
        "\n",
        "    #Calculer la proba de 6 et de 4\n",
        "  m += listeDe.count(6)/10000\n",
        "  n += SousEchantDe.count(4)/1000\n",
        "\n",
        "print(listeDe)\n",
        "print(m, n)\n",
        "print(\"m = \",m/5.0, \"n =\" , n/5.0 )\n",
        "#print(SousEchantDe)"
      ]
    },
    {
      "cell_type": "code",
      "source": [
        "# Exo simple Nb lancers 10 - Sous échantillon = 5\n",
        "#On fait 5 fois l'expérience\n",
        "for i in range(5):\n",
        " liste = []\n",
        " j=0\n",
        " while j < 10: # 10 lancers\n",
        "  liste.append(random.randint(1,6))\n",
        "  j+=1\n",
        " #Sous échantillion de 5 parmi 10\n",
        " SousEch =  random.sample(liste, 5)\n",
        "\n",
        "print(liste)\n",
        "print(SousEch)\n"
      ],
      "metadata": {
        "id": "dyrbvyP0GXkS"
      },
      "execution_count": null,
      "outputs": []
    },
    {
      "cell_type": "code",
      "source": [
        "#Corrigé Exo 3 Paradoxalement m et n sont bien proches 1/6\n",
        "\n",
        "import random\n",
        "\n",
        "m = 0\n",
        "n = 0\n",
        "\n",
        "for i in range(5):\n",
        "    listeDe = []\n",
        "    j = 0\n",
        "    \n",
        "    while j < 10000:\n",
        "        listeDe.append(random.randint(1, 6))\n",
        "        j += 1\n",
        "        \n",
        "    sousEchantillonDe = random.sample(listeDe, 1000)\n",
        "    \n",
        "    m += listeDe.count(6)/10000\n",
        "    n += sousEchantillonDe.count(4)/1000\n",
        "    \n",
        "print(\"m =\", m/5, \"et n =\", n/5)"
      ],
      "metadata": {
        "colab": {
          "base_uri": "https://localhost:8080/"
        },
        "id": "tweCabfzBwxy",
        "outputId": "40d5c5e0-12c1-4d83-8e33-41dc4c286cdc"
      },
      "execution_count": 44,
      "outputs": [
        {
          "output_type": "stream",
          "name": "stdout",
          "text": [
            "m = 0.16538000000000003 et n = 0.1658\n"
          ]
        }
      ]
    }
  ]
}