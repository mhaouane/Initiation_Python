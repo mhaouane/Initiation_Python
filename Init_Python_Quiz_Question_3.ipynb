{
  "nbformat": 4,
  "nbformat_minor": 0,
  "metadata": {
    "colab": {
      "name": "Init_Python_Quiz_Question_3.ipynb",
      "provenance": [],
      "collapsed_sections": [],
      "authorship_tag": "ABX9TyMi3SA4MXPgcItUBzOT1KVj",
      "include_colab_link": true
    },
    "kernelspec": {
      "name": "python3",
      "display_name": "Python 3"
    },
    "language_info": {
      "name": "python"
    }
  },
  "cells": [
    {
      "cell_type": "markdown",
      "metadata": {
        "id": "view-in-github",
        "colab_type": "text"
      },
      "source": [
        "<a href=\"https://colab.research.google.com/github/mhaouane/Initiation_Python/blob/main/Init_Python_Quiz_Question_3.ipynb\" target=\"_parent\"><img src=\"https://colab.research.google.com/assets/colab-badge.svg\" alt=\"Open In Colab\"/></a>"
      ]
    },
    {
      "cell_type": "code",
      "execution_count": null,
      "metadata": {
        "id": "kyOVKLt19tZ5"
      },
      "outputs": [],
      "source": [
        "#Question 3\n",
        "#Considérons l'expérience suivante :\n",
        "#Soit 10.000 lancers d'un dé équilibré classique (à 6 faces). Parmi ces 10.000 lancers, on en prend 1.000 aléatoirement.\n",
        "#On réalise 5 fois cette expérience, et on note m la moyenne des fréquences de 6 obtenus sur les 10.000 lancers et n la moyenne des fréquences de 4 obtenus dans le sous-échantillon.\n",
        "#Quelles seraient les valeurs de m et n à l'issue de cette expérience ?\n",
        "import random\n",
        "Nb_lancers = 10000\n",
        "Sous_Echantillion = 1000\n",
        "Nb_experience = 5\n",
        "# m : la moyenne des fréquences de 6 obtenus sur les 10.000 lancers - ListeDe  \n",
        "# n : la moyenne des fréquences de 4 obtenus dans le sous-échantillon - SousEchantDe\n",
        "\n",
        "m=0\n",
        "n=0\n",
        "for i in range(5):\n",
        "  listeDe = [] # on intialise la liste\n",
        "  j = 0\n",
        "\n",
        "\n",
        "\n",
        "\n",
        "#Freq_moy_6 = m\n",
        "m = random.random()\n",
        "\n",
        "#Freq_moy_4 = n dans le sous échantillon\n",
        "n = random.random()"
      ]
    }
  ]
}