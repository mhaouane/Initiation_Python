{
  "nbformat": 4,
  "nbformat_minor": 0,
  "metadata": {
    "colab": {
      "name": "Init_Python_Quiz_Question_3.ipynb",
      "provenance": [],
      "collapsed_sections": [],
      "authorship_tag": "ABX9TyPN0tiUZ7LARABFt3w4wPWf",
      "include_colab_link": true
    },
    "kernelspec": {
      "name": "python3",
      "display_name": "Python 3"
    },
    "language_info": {
      "name": "python"
    }
  },
  "cells": [
    {
      "cell_type": "markdown",
      "metadata": {
        "id": "view-in-github",
        "colab_type": "text"
      },
      "source": [
        "<a href=\"https://colab.research.google.com/github/mhaouane/Initiation_Python/blob/main/Init_Python_Quiz_Question_3.ipynb\" target=\"_parent\"><img src=\"https://colab.research.google.com/assets/colab-badge.svg\" alt=\"Open In Colab\"/></a>"
      ]
    },
    {
      "cell_type": "code",
      "execution_count": null,
      "metadata": {
        "id": "kyOVKLt19tZ5"
      },
      "outputs": [],
      "source": [
        "#Question 3\n",
        "#Considérons l'expérience suivante :\n",
        "#Soit 10.000 lancers d'un dé équilibré classique (à 6 faces). Parmi ces 10.000 lancers, on en prend 1.000 aléatoirement.\n",
        "#On réalise 5 fois cette expérience, et on note m la moyenne des fréquences de 6 obtenus sur les 10.000 lancers et n la moyenne des fréquences de 4 obtenus dans le sous-échantillon.\n",
        "#Quelles seraient les valeurs de m et n à l'issue de cette expérience ?\n",
        "import random\n",
        "Nb_lancers = 10000\n",
        "Sous_Echantillion = 1000\n",
        "Nb_experience = 5\n",
        "# m : la moyenne des fréquences de 6 obtenus sur les 10.000 lancers - ListeDe  \n",
        "# n : la moyenne des fréquences de 4 obtenus dans le sous-échantillon - SousEchantDe\n",
        "\n",
        "m=0\n",
        "n=0\n",
        "for i in range(5):\n",
        "  listeDe = [] # on intialise la liste\n",
        "  j = 0\n",
        "    #On remplit la liste avec la focntion randint entre 1 et 6 - 1 face à la fois sur 10 000 lancers\n",
        "  while j < 10000:\n",
        "    listeDe.append(random.randint(1,6)) # On ajoute à la liste chq valeur d'un entier entre 1 et 6\n",
        "    j+=1\n",
        "    #Parmi ces 10000 lancers, on prend le sous échantillon de 1000 et on remplit la liste du Sous échan\n",
        "    while j < 1000:\n",
        "      SousEchantDe = random.sample(listeDe, 1000) # on utlise la fonction de sous échantillonage de la liste initiale et on récupère aléatoirement 1 face du dé avec une réduction de 1000\n",
        "\n",
        "\n",
        "\n",
        "\n",
        "#Freq_moy_6 = m\n",
        "m = random.random()\n",
        "\n",
        "#Freq_moy_4 = n dans le sous échantillon\n",
        "n = random.random()"
      ]
    },
    {
      "cell_type": "code",
      "source": [
        "import random\n",
        "liste = []\n",
        "\n",
        "for i in range(10):\n",
        " liste.append(random.randint(1,6))\n",
        " i+=1\n",
        " while i < 5:\n",
        "   SousEch=random.sample(liste, 5)\n",
        "\n",
        "print(liste)\n",
        "print(SousEch)"
      ],
      "metadata": {
        "colab": {
          "base_uri": "https://localhost:8080/",
          "height": 357
        },
        "id": "jcGfjM9QBqwR",
        "outputId": "f6cb1c41-0ba1-4fac-ca24-a0a7fefc2a20"
      },
      "execution_count": 15,
      "outputs": [
        {
          "output_type": "error",
          "ename": "ValueError",
          "evalue": "ignored",
          "traceback": [
            "\u001b[0;31m---------------------------------------------------------------------------\u001b[0m",
            "\u001b[0;31mValueError\u001b[0m                                Traceback (most recent call last)",
            "\u001b[0;32m<ipython-input-15-aafe512f257a>\u001b[0m in \u001b[0;36m<module>\u001b[0;34m()\u001b[0m\n\u001b[1;32m      6\u001b[0m  \u001b[0mi\u001b[0m\u001b[0;34m+=\u001b[0m\u001b[0;36m1\u001b[0m\u001b[0;34m\u001b[0m\u001b[0;34m\u001b[0m\u001b[0m\n\u001b[1;32m      7\u001b[0m  \u001b[0;32mwhile\u001b[0m \u001b[0mi\u001b[0m \u001b[0;34m<\u001b[0m \u001b[0;36m5\u001b[0m\u001b[0;34m:\u001b[0m\u001b[0;34m\u001b[0m\u001b[0;34m\u001b[0m\u001b[0m\n\u001b[0;32m----> 8\u001b[0;31m    \u001b[0mSousEch\u001b[0m\u001b[0;34m=\u001b[0m\u001b[0mrandom\u001b[0m\u001b[0;34m.\u001b[0m\u001b[0msample\u001b[0m\u001b[0;34m(\u001b[0m\u001b[0mliste\u001b[0m\u001b[0;34m,\u001b[0m \u001b[0;36m5\u001b[0m\u001b[0;34m)\u001b[0m\u001b[0;34m\u001b[0m\u001b[0;34m\u001b[0m\u001b[0m\n\u001b[0m\u001b[1;32m      9\u001b[0m \u001b[0;34m\u001b[0m\u001b[0m\n\u001b[1;32m     10\u001b[0m \u001b[0mprint\u001b[0m\u001b[0;34m(\u001b[0m\u001b[0mliste\u001b[0m\u001b[0;34m)\u001b[0m\u001b[0;34m\u001b[0m\u001b[0;34m\u001b[0m\u001b[0m\n",
            "\u001b[0;32m/usr/lib/python3.7/random.py\u001b[0m in \u001b[0;36msample\u001b[0;34m(self, population, k)\u001b[0m\n\u001b[1;32m    319\u001b[0m         \u001b[0mn\u001b[0m \u001b[0;34m=\u001b[0m \u001b[0mlen\u001b[0m\u001b[0;34m(\u001b[0m\u001b[0mpopulation\u001b[0m\u001b[0;34m)\u001b[0m\u001b[0;34m\u001b[0m\u001b[0;34m\u001b[0m\u001b[0m\n\u001b[1;32m    320\u001b[0m         \u001b[0;32mif\u001b[0m \u001b[0;32mnot\u001b[0m \u001b[0;36m0\u001b[0m \u001b[0;34m<=\u001b[0m \u001b[0mk\u001b[0m \u001b[0;34m<=\u001b[0m \u001b[0mn\u001b[0m\u001b[0;34m:\u001b[0m\u001b[0;34m\u001b[0m\u001b[0;34m\u001b[0m\u001b[0m\n\u001b[0;32m--> 321\u001b[0;31m             \u001b[0;32mraise\u001b[0m \u001b[0mValueError\u001b[0m\u001b[0;34m(\u001b[0m\u001b[0;34m\"Sample larger than population or is negative\"\u001b[0m\u001b[0;34m)\u001b[0m\u001b[0;34m\u001b[0m\u001b[0;34m\u001b[0m\u001b[0m\n\u001b[0m\u001b[1;32m    322\u001b[0m         \u001b[0mresult\u001b[0m \u001b[0;34m=\u001b[0m \u001b[0;34m[\u001b[0m\u001b[0;32mNone\u001b[0m\u001b[0;34m]\u001b[0m \u001b[0;34m*\u001b[0m \u001b[0mk\u001b[0m\u001b[0;34m\u001b[0m\u001b[0;34m\u001b[0m\u001b[0m\n\u001b[1;32m    323\u001b[0m         \u001b[0msetsize\u001b[0m \u001b[0;34m=\u001b[0m \u001b[0;36m21\u001b[0m        \u001b[0;31m# size of a small set minus size of an empty list\u001b[0m\u001b[0;34m\u001b[0m\u001b[0;34m\u001b[0m\u001b[0m\n",
            "\u001b[0;31mValueError\u001b[0m: Sample larger than population or is negative"
          ]
        }
      ]
    },
    {
      "cell_type": "code",
      "source": [
        "# Exo simple Nb lancers 10 - Sous écha = 5\n",
        "#On fait 5 fois l'expérience\n",
        "for i in range(5):\n",
        " liste = []\n",
        " j=0\n",
        " while j < 10: # 10 lancers\n",
        "  liste.append(random.randint(1,6))\n",
        "  j+=1\n",
        " #Sous échantillion de 5\n",
        " SousEch =  random.sample(liste, 5)\n",
        "\n",
        "print(liste)\n",
        "print(SousEch)\n"
      ],
      "metadata": {
        "colab": {
          "base_uri": "https://localhost:8080/"
        },
        "id": "dyrbvyP0GXkS",
        "outputId": "db28bf91-efdb-4ca7-dad0-da83a4e0a1ff"
      },
      "execution_count": 24,
      "outputs": [
        {
          "output_type": "stream",
          "name": "stdout",
          "text": [
            "[4, 3, 2, 1, 4, 5, 2, 2, 1, 6]\n",
            "[5, 1, 3, 4, 2]\n"
          ]
        }
      ]
    },
    {
      "cell_type": "code",
      "source": [
        ""
      ],
      "metadata": {
        "id": "tweCabfzBwxy"
      },
      "execution_count": null,
      "outputs": []
    }
  ]
}