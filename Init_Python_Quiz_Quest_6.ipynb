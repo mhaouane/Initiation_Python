{
  "nbformat": 4,
  "nbformat_minor": 0,
  "metadata": {
    "colab": {
      "name": "Init_Python_Quiz_Quest_6.ipynb",
      "provenance": [],
      "collapsed_sections": [],
      "authorship_tag": "ABX9TyODFAczdFsxyp6n6+Po9Qh8",
      "include_colab_link": true
    },
    "kernelspec": {
      "name": "python3",
      "display_name": "Python 3"
    },
    "language_info": {
      "name": "python"
    }
  },
  "cells": [
    {
      "cell_type": "markdown",
      "metadata": {
        "id": "view-in-github",
        "colab_type": "text"
      },
      "source": [
        "<a href=\"https://colab.research.google.com/github/mhaouane/Initiation_Python/blob/main/Init_Python_Quiz_Quest_6.ipynb\" target=\"_parent\"><img src=\"https://colab.research.google.com/assets/colab-badge.svg\" alt=\"Open In Colab\"/></a>"
      ]
    },
    {
      "cell_type": "code",
      "execution_count": 3,
      "metadata": {
        "colab": {
          "base_uri": "https://localhost:8080/"
        },
        "id": "qdQ-zOomVd5s",
        "outputId": "804a574d-a84b-4946-fe1f-14fbc443d241"
      },
      "outputs": [
        {
          "output_type": "stream",
          "name": "stdout",
          "text": [
            "[667, 514, 811, 734, 254, 550, 614, 307, 457, 739]\n"
          ]
        }
      ],
      "source": [
        "#Exercice 6\n",
        "#Comment générer N tickets de loterie, soit N numéros entre 0 et 999, qui soient uniques?\n",
        "#On peut utiliser la fonction  range(p)  pour produire une suite d'entiers de 0 a p-1\n",
        "#génère 1000 tickets uniques de façon aléatoire\n",
        "import random\n",
        "population= range(1000)\n",
        "N=10\n",
        "tickets = []\n",
        "for n in range(N):\n",
        "  tickets.append(random.choice(population))\n",
        "print(tickets)"
      ]
    },
    {
      "cell_type": "code",
      "source": [
        "#Corrigé exercice 6\n",
        "#Attention le N est un 1 us échantillion. Par conséquent, il faut utliser la fonction sample bien adaptée pour le sous-échationnage\n",
        "import random\n",
        "population= range(1000)\n",
        "N=10\n",
        "tickets = []\n",
        "for n in range(N):\n",
        "  tickets.append(random.choice(population))\n",
        "print(tickets)"
      ],
      "metadata": {
        "id": "YbSyI9NDXAYv"
      },
      "execution_count": null,
      "outputs": []
    }
  ]
}