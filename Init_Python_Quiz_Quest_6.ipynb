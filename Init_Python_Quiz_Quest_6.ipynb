{
  "nbformat": 4,
  "nbformat_minor": 0,
  "metadata": {
    "colab": {
      "name": "Init_Python_Quiz_Quest_6.ipynb",
      "provenance": [],
      "collapsed_sections": [],
      "authorship_tag": "ABX9TyNzj0MBvYIlueDCBh7Iw/Vt",
      "include_colab_link": true
    },
    "kernelspec": {
      "name": "python3",
      "display_name": "Python 3"
    },
    "language_info": {
      "name": "python"
    }
  },
  "cells": [
    {
      "cell_type": "markdown",
      "metadata": {
        "id": "view-in-github",
        "colab_type": "text"
      },
      "source": [
        "<a href=\"https://colab.research.google.com/github/mhaouane/Initiation_Python/blob/main/Init_Python_Quiz_Quest_6.ipynb\" target=\"_parent\"><img src=\"https://colab.research.google.com/assets/colab-badge.svg\" alt=\"Open In Colab\"/></a>"
      ]
    },
    {
      "cell_type": "code",
      "execution_count": null,
      "metadata": {
        "id": "qdQ-zOomVd5s"
      },
      "outputs": [],
      "source": [
        "#Exercice 6\n",
        "#Comment générer N tickets de loterie, soit N numéros entre 0 et 999, qui soient uniques?\n",
        "#On peut utiliser la fonction  range(p)  pour produire une suite d'entiers de 0 a p-1\n",
        "#génère 1000 tickets uniques de façon aléatoire\n",
        "population= range(1000)\n",
        "N=1000\n",
        "tickets = []\n",
        "for n in range(N):\n",
        "  tickets.append(random.choice(population))\n",
        "print(tickets)"
      ]
    }
  ]
}