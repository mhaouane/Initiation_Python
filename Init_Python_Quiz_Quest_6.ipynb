{
  "nbformat": 4,
  "nbformat_minor": 0,
  "metadata": {
    "colab": {
      "name": "Init_Python_Quiz_Quest_6.ipynb",
      "provenance": [],
      "collapsed_sections": [],
      "authorship_tag": "ABX9TyMAVkheQdLnEaSCPWIVHqbS",
      "include_colab_link": true
    },
    "kernelspec": {
      "name": "python3",
      "display_name": "Python 3"
    },
    "language_info": {
      "name": "python"
    }
  },
  "cells": [
    {
      "cell_type": "markdown",
      "metadata": {
        "id": "view-in-github",
        "colab_type": "text"
      },
      "source": [
        "<a href=\"https://colab.research.google.com/github/mhaouane/Initiation_Python/blob/main/Init_Python_Quiz_Quest_6.ipynb\" target=\"_parent\"><img src=\"https://colab.research.google.com/assets/colab-badge.svg\" alt=\"Open In Colab\"/></a>"
      ]
    },
    {
      "cell_type": "code",
      "execution_count": 3,
      "metadata": {
        "colab": {
          "base_uri": "https://localhost:8080/"
        },
        "id": "qdQ-zOomVd5s",
        "outputId": "804a574d-a84b-4946-fe1f-14fbc443d241"
      },
      "outputs": [
        {
          "output_type": "stream",
          "name": "stdout",
          "text": [
            "[667, 514, 811, 734, 254, 550, 614, 307, 457, 739]\n"
          ]
        }
      ],
      "source": [
        "#Exercice 6\n",
        "#Comment générer N tickets de loterie, soit N numéros entre 0 et 999, qui soient uniques?\n",
        "#On peut utiliser la fonction  range(p)  pour produire une suite d'entiers de 0 a p-1\n",
        "#génère 1000 tickets uniques de façon aléatoire\n",
        "import random\n",
        "population= range(1000)\n",
        "N=10\n",
        "tickets = []\n",
        "for n in range(N):\n",
        "  tickets.append(random.choice(population))\n",
        "print(tickets)"
      ]
    },
    {
      "cell_type": "code",
      "source": [
        "#Corrigé exercice 6\n",
        "#Attention le N est un 1 un échantillion. Par conséquent, il faut utliser la fonction sample bien adaptée pour le sous-échatillonnage\n",
        "import random\n",
        "population= range(1000)\n",
        "N=10\n",
        "tickets = random.sample(population, N)\n",
        "\n",
        "print(tickets)"
      ],
      "metadata": {
        "colab": {
          "base_uri": "https://localhost:8080/"
        },
        "id": "YbSyI9NDXAYv",
        "outputId": "e890bb9a-50fd-464b-f25d-fcd12052460c"
      },
      "execution_count": 6,
      "outputs": [
        {
          "output_type": "stream",
          "name": "stdout",
          "text": [
            "[269, 280, 766, 607, 765, 611, 930, 544, 402, 96]\n"
          ]
        }
      ]
    }
  ]
}